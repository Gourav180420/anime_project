{
 "cells": [
  {
   "cell_type": "code",
   "execution_count": null,
   "id": "b5ef1b17-7576-4b0c-8275-d081dd78155c",
   "metadata": {},
   "outputs": [],
   "source": [
    "import requests\n",
    "import pandas as pd\n",
    "import mysql.connector\n"
   ]
  },
  {
   "cell_type": "code",
   "execution_count": null,
   "id": "efb45385-c0af-42ba-a3d1-01e7b91588dd",
   "metadata": {},
   "outputs": [],
   "source": [
    "# Extract top 10 anime data\n",
    "response = requests.get(\"https://api.jikan.moe/v4/top/anime\")\n",
    "data = response.json()\n",
    "\n",
    "# Take just the 'data' part of the JSON\n",
    "anime_list = data['data']\n",
    "\n",
    "# Convert to DataFrame\n",
    "df = pd.json_normalize(anime_list)\n",
    "df.head()\n"
   ]
  },
  {
   "cell_type": "code",
   "execution_count": null,
   "id": "c35d0f5c-10ed-481a-9b2f-314ca94884cf",
   "metadata": {},
   "outputs": [],
   "source": [
    "# Select useful columns\n",
    "df_clean = df[['title', 'type', 'episodes', 'score', 'rank', 'popularity', 'members']]\n",
    "df_clean.dropna(inplace=True)\n",
    "df_clean.head()\n"
   ]
  },
  {
   "cell_type": "code",
   "execution_count": null,
   "id": "20da7c9b-446d-4a6a-a81e-34cb3cc306d6",
   "metadata": {},
   "outputs": [],
   "source": [
    "df_clean.to_csv('Anime_ETL_cleaned.csv', index=False)\n"
   ]
  },
  {
   "cell_type": "code",
   "execution_count": null,
   "id": "b456c0e2-ca37-4303-85bb-d63e3fa7cd58",
   "metadata": {},
   "outputs": [],
   "source": [
    "# Replace with your MySQL credentials\n",
    "connection = mysql.connector.connect(\n",
    "    host=\"localhost\",\n",
    "    user=\"your_username\",\n",
    "    password=\"your_password\",\n",
    "    database=\"anime_db\"\n",
    ")\n",
    "\n",
    "cursor = connection.cursor()\n",
    "\n",
    "# Create table\n",
    "cursor.execute(\"\"\"\n",
    "CREATE TABLE IF NOT EXISTS anime_top (\n",
    "    title VARCHAR(255),\n",
    "    type VARCHAR(50),\n",
    "    episodes INT,\n",
    "    score FLOAT,\n",
    "    rank INT,\n",
    "    popularity INT,\n",
    "    members INT\n",
    ")\n",
    "\"\"\")\n",
    "\n",
    "# Insert data\n",
    "for index, row in df_clean.iterrows():\n",
    "    cursor.execute(\"\"\"\n",
    "    INSERT INTO anime_top (title, type, episodes, score, rank, popularity, members)\n",
    "    VALUES (%s, %s, %s, %s, %s, %s, %s)\n",
    "    \"\"\", tuple(row))\n",
    "\n",
    "connection.commit()\n",
    "connection.close()\n"
   ]
  }
 ],
 "metadata": {
  "kernelspec": {
   "display_name": "Python 3 (ipykernel)",
   "language": "python",
   "name": "python3"
  },
  "language_info": {
   "codemirror_mode": {
    "name": "ipython",
    "version": 3
   },
   "file_extension": ".py",
   "mimetype": "text/x-python",
   "name": "python",
   "nbconvert_exporter": "python",
   "pygments_lexer": "ipython3",
   "version": "3.13.4"
  }
 },
 "nbformat": 4,
 "nbformat_minor": 5
}
